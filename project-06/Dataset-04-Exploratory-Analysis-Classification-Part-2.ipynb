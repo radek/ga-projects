{
 "cells": [
  {
   "cell_type": "markdown",
   "metadata": {},
   "source": [
    "## Solar\n",
    "\n",
    "Project Solar is an attempt to equire information about sourounding envrionment in a living space, analize it, and build predictions in order to answer:\n",
    "\n",
    "> Determine value of artificial light to counteract its natural deficit\n",
    "\n",
    "+ Given time of the day, provide an answer about the level of light\n",
    "+ Given time of the day (and day of the week) - provide an answer if light should be on"
   ]
  },
  {
   "cell_type": "code",
   "execution_count": 1,
   "metadata": {},
   "outputs": [],
   "source": [
    "import pandas as pd\n",
    "import seaborn as sns\n",
    "import matplotlib.pyplot as plt\n",
    "import numpy as np\n",
    "\n",
    "from sklearn.model_selection import train_test_split"
   ]
  },
  {
   "cell_type": "code",
   "execution_count": 2,
   "metadata": {},
   "outputs": [
    {
     "data": {
      "text/plain": [
       "Index(['dot_week', 'light_level', 'light_log_mms', 'light_log_sss',\n",
       "       'location_black', 'location_blue', 'location_green', 'location_orange',\n",
       "       'location_purple', 'motion', 'present', 'sound_log_mms',\n",
       "       'sound_log_sss', 'sun_cat', 'timestamp'],\n",
       "      dtype='object')"
      ]
     },
     "execution_count": 2,
     "metadata": {},
     "output_type": "execute_result"
    }
   ],
   "source": [
    "from sklearn.externals import joblib\n",
    "df = joblib.load('data/sensing_numeric.sav')\n",
    "df.columns"
   ]
  },
  {
   "cell_type": "markdown",
   "metadata": {},
   "source": [
    "#### Adding classification feature (predictable benchmark)"
   ]
  },
  {
   "cell_type": "code",
   "execution_count": 3,
   "metadata": {},
   "outputs": [
    {
     "data": {
      "text/plain": [
       "0    199465\n",
       "5     86441\n",
       "4      6536\n",
       "3      5020\n",
       "2      3353\n",
       "1      3351\n",
       "Name: light_level, dtype: int64"
      ]
     },
     "execution_count": 3,
     "metadata": {},
     "output_type": "execute_result"
    }
   ],
   "source": [
    "df['light_level'].value_counts()"
   ]
  },
  {
   "cell_type": "markdown",
   "metadata": {},
   "source": [
    "#### Feature selection (including sensing)"
   ]
  },
  {
   "cell_type": "code",
   "execution_count": 4,
   "metadata": {},
   "outputs": [
    {
     "name": "stdout",
     "output_type": "stream",
     "text": [
      "<class 'pandas.core.frame.DataFrame'>\n",
      "MultiIndex: 304166 entries, (426384, 2018-05-14 00:00:00) to (730584, 2018-05-27 23:32:00)\n",
      "Data columns (total 11 columns):\n",
      "dot_week           304166 non-null int64\n",
      "location_black     304166 non-null uint8\n",
      "location_blue      304166 non-null uint8\n",
      "location_green     304166 non-null uint8\n",
      "location_orange    304166 non-null uint8\n",
      "location_purple    304166 non-null uint8\n",
      "motion             304166 non-null int64\n",
      "present            304166 non-null int64\n",
      "sound_log_sss      304166 non-null float64\n",
      "sun_cat            304166 non-null int8\n",
      "timestamp          304166 non-null int64\n",
      "dtypes: float64(1), int64(4), int8(1), uint8(5)\n",
      "memory usage: 21.4 MB\n"
     ]
    }
   ],
   "source": [
    "y = df['light_level']\n",
    "X = df[df.columns.difference(['light_level_sss','light_level','light_log_mms','light_log_sss','sound_log_mms'])]\n",
    "X.info()"
   ]
  },
  {
   "cell_type": "markdown",
   "metadata": {},
   "source": [
    "#### Train split"
   ]
  },
  {
   "cell_type": "code",
   "execution_count": 6,
   "metadata": {},
   "outputs": [],
   "source": [
    "TRAIN_SIZE = 0.7\n",
    "head = df.tail(1).index.get_level_values('id').values[0] - df.head(1).index.get_level_values('id').values[0]\n",
    "train_top_id = df.head(1).index.get_level_values('id').values[0] + round(head * TRAIN_SIZE)\n",
    "train = df.loc[df.index.get_level_values('id') <= train_top_id]\n",
    "test = df.loc[df.index.get_level_values('id') > train_top_id]\n",
    "X_train = train[X.columns]\n",
    "X_test = test[X.columns]\n",
    "y_train = train['light_level']\n",
    "y_test = test['light_level']"
   ]
  },
  {
   "cell_type": "markdown",
   "metadata": {},
   "source": [
    "#### Logistic Regression"
   ]
  },
  {
   "cell_type": "code",
   "execution_count": 7,
   "metadata": {
    "scrolled": true
   },
   "outputs": [],
   "source": [
    "from sklearn.linear_model import LogisticRegression\n",
    "from helpers import print_predict_scores\n",
    "from helpers import fit_predict\n",
    "logReg = LogisticRegression()"
   ]
  },
  {
   "cell_type": "code",
   "execution_count": 8,
   "metadata": {
    "scrolled": true
   },
   "outputs": [
    {
     "name": "stdout",
     "output_type": "stream",
     "text": [
      "p-values:\n",
      "[  5.01840968e-43   6.86089769e-06   6.01884090e-05   3.07625668e-08\n",
      "   1.67211860e-01   2.04631862e-01   0.00000000e+00   0.00000000e+00\n",
      "   5.83704196e-04   0.00000000e+00   5.01840968e-43]\n",
      "\n",
      "coefficients:\n",
      "[[ -2.13278622e-03  -2.02969037e-02  -1.99531097e-02   3.98884202e-03\n",
      "    5.81189165e-02   1.26949397e-01  -6.41878554e-01  -4.57046539e-01\n",
      "   -9.77161063e-02   4.39626639e-01  -2.13278622e-03]\n",
      " [ -1.92145907e-02  -7.02282579e-01  -6.96824624e-01  -6.94213023e-01\n",
      "   -6.92177449e-01  -6.99579429e-01  -3.44481353e-04   7.01474644e-01\n",
      "   -1.96485306e-02  -2.65361653e-01  -1.92145907e-02]\n",
      " [ -1.74756197e-02  -7.06138578e-01  -6.82887536e-01  -6.75155591e-01\n",
      "   -6.91420335e-01  -7.35890670e-01   2.18308491e-01   5.99178076e-01\n",
      "   -3.60204807e-03  -2.62247887e-01  -1.74756197e-02]\n",
      " [ -1.88070955e-02  -6.32674548e-01  -6.11011018e-01  -6.06081381e-01\n",
      "   -6.25666385e-01  -6.82707487e-01   3.09680588e-01   6.46004202e-01\n",
      "   -1.55213269e-02  -2.65491599e-01  -1.88070955e-02]\n",
      " [ -2.29256867e-02  -6.08419187e-01  -5.40263296e-01  -5.65552663e-01\n",
      "   -5.73362802e-01  -6.44703541e-01   3.33478133e-01   8.04315253e-01\n",
      "   -4.07596025e-02  -2.93308220e-01  -2.29256867e-02]\n",
      " [  6.71791324e-03  -2.53833912e-02  -3.87505234e-02  -6.34866668e-02\n",
      "   -1.18616339e-01  -1.77560522e-01   5.86957721e-01   2.70321320e-01\n",
      "    1.10360215e-01  -4.07444599e-01   6.71791324e-03]]\n",
      "\n",
      "intercept: [ 0.14880714 -3.4850771  -3.49149271 -3.15814082 -2.93230149 -0.42379744]\n",
      "\n",
      "score: 0.657501949107168\n",
      "\n",
      "mean square root: 2.7558531543545026\n",
      "\n"
     ]
    }
   ],
   "source": [
    "(model, prediction) = fit_predict(X_train, y_train, logReg)"
   ]
  },
  {
   "cell_type": "code",
   "execution_count": 9,
   "metadata": {},
   "outputs": [],
   "source": [
    "from sklearn.metrics import mean_squared_error, classification_report, precision_score, recall_score, confusion_matrix"
   ]
  },
  {
   "cell_type": "code",
   "execution_count": 10,
   "metadata": {},
   "outputs": [
    {
     "name": "stdout",
     "output_type": "stream",
     "text": [
      "7.59472660837\n",
      "             precision    recall  f1-score   support\n",
      "\n",
      "          0       0.67      0.95      0.79    141035\n",
      "          1       0.00      0.00      0.00      2363\n",
      "          2       0.00      0.00      0.00      2360\n",
      "          3       0.00      0.00      0.00      3533\n",
      "          4       0.00      0.00      0.00      4574\n",
      "          5       0.45      0.10      0.17     59053\n",
      "\n",
      "avg / total       0.57      0.66      0.57    212918\n",
      "\n"
     ]
    },
    {
     "name": "stderr",
     "output_type": "stream",
     "text": [
      "/Users/radek.czarnecki/anaconda3/lib/python3.6/site-packages/sklearn/metrics/classification.py:1135: UndefinedMetricWarning: Precision and F-score are ill-defined and being set to 0.0 in labels with no predicted samples.\n",
      "  'precision', 'predicted', average, warn_for)\n"
     ]
    }
   ],
   "source": [
    "print(mean_squared_error(y_train, prediction))\n",
    "print(classification_report(y_train, prediction))"
   ]
  },
  {
   "cell_type": "code",
   "execution_count": 11,
   "metadata": {},
   "outputs": [
    {
     "name": "stdout",
     "output_type": "stream",
     "text": [
      "Test score r2: 0.656102051552\n"
     ]
    }
   ],
   "source": [
    "print('Test score r2:', logReg.score(X_test,y_test))"
   ]
  },
  {
   "cell_type": "markdown",
   "metadata": {},
   "source": [
    "#### Parameters optimization - cross validation"
   ]
  },
  {
   "cell_type": "code",
   "execution_count": 44,
   "metadata": {},
   "outputs": [],
   "source": [
    "from sklearn.model_selection import GridSearchCV, KFold"
   ]
  },
  {
   "cell_type": "code",
   "execution_count": 45,
   "metadata": {},
   "outputs": [],
   "source": [
    "param_grid = [\n",
    "    {'C': [10**-i for i in range(-5, 5)], 'class_weight': [None, 'balanced']}\n",
    "]\n",
    "grid = GridSearchCV(\n",
    "    estimator=logReg,\n",
    "    param_grid=param_grid,\n",
    "    cv=7,\n",
    "    scoring = 'neg_mean_squared_error'\n",
    ")"
   ]
  },
  {
   "cell_type": "code",
   "execution_count": 46,
   "metadata": {
    "scrolled": false
   },
   "outputs": [
    {
     "data": {
      "text/plain": [
       "LogisticRegression(C=100000, class_weight=None, dual=False,\n",
       "          fit_intercept=True, intercept_scaling=1, max_iter=100,\n",
       "          multi_class='ovr', n_jobs=1, penalty='l2', random_state=None,\n",
       "          solver='liblinear', tol=0.0001, verbose=0, warm_start=False)"
      ]
     },
     "execution_count": 46,
     "metadata": {},
     "output_type": "execute_result"
    }
   ],
   "source": [
    "grid.fit(X_train, y_train)\n",
    "grid.best_estimator_"
   ]
  },
  {
   "cell_type": "code",
   "execution_count": 47,
   "metadata": {},
   "outputs": [
    {
     "name": "stdout",
     "output_type": "stream",
     "text": [
      "p-values:\n",
      "[  5.01840968e-43   6.86089769e-06   6.01884090e-05   3.07625668e-08\n",
      "   1.67211860e-01   2.04631862e-01   0.00000000e+00   0.00000000e+00\n",
      "   5.83704196e-04   0.00000000e+00   5.01840968e-43]\n",
      "\n",
      "coefficients:\n",
      "[[ -2.13359150e-03  -2.02811457e-02  -1.99490591e-02   3.94279974e-03\n",
      "    5.81699453e-02   1.27007970e-01  -6.42076817e-01  -4.57081124e-01\n",
      "   -9.78455893e-02   4.39630671e-01  -2.13359150e-03]\n",
      " [ -1.85723895e-02  -7.06638245e-01  -7.00288095e-01  -6.89577207e-01\n",
      "   -7.00440934e-01  -7.03337780e-01  -2.50696061e-04   7.03875974e-01\n",
      "    3.16937919e-04  -2.64252461e-01  -1.85723895e-02]\n",
      " [ -1.68277036e-02  -7.10374390e-01  -6.86233510e-01  -6.70338704e-01\n",
      "   -6.99831682e-01  -7.40038583e-01   2.19710494e-01   6.01222019e-01\n",
      "    1.64824052e-02  -2.61123251e-01  -1.68277036e-02]\n",
      " [ -1.84144241e-02  -6.35318265e-01  -6.13081845e-01  -6.03004042e-01\n",
      "   -6.30911653e-01  -6.85400304e-01   3.10836970e-01   6.47354387e-01\n",
      "   -2.92552361e-03  -2.64803497e-01  -1.84144241e-02]\n",
      " [ -2.26544679e-02  -6.10206706e-01  -5.41697989e-01  -5.63421728e-01\n",
      "   -5.77028503e-01  -6.46762791e-01   3.34539113e-01   8.05416713e-01\n",
      "   -3.19154016e-02  -2.92816959e-01  -2.26544679e-02]\n",
      " [  6.72206146e-03  -2.54115961e-02  -3.87693586e-02  -6.34198329e-02\n",
      "   -1.18705430e-01  -1.77637917e-01   5.87159521e-01   2.70335056e-01\n",
      "    1.10574733e-01  -4.07442510e-01   6.72206146e-03]]\n",
      "\n",
      "intercept: [ 0.14889051 -3.50028226 -3.50681687 -3.16771611 -2.93911772 -0.42394413]\n",
      "\n",
      "score: 0.6575066457509464\n",
      "\n",
      "mean square root: 2.755831851233163\n",
      "\n"
     ]
    }
   ],
   "source": [
    "(model, prediction) = fit_predict(X_train, y_train, grid.best_estimator_)"
   ]
  },
  {
   "cell_type": "code",
   "execution_count": 48,
   "metadata": {},
   "outputs": [
    {
     "name": "stdout",
     "output_type": "stream",
     "text": [
      "             precision    recall  f1-score   support\n",
      "\n",
      "          0       0.67      0.95      0.79    141035\n",
      "          1       0.00      0.00      0.00      2363\n",
      "          2       0.00      0.00      0.00      2360\n",
      "          3       0.00      0.00      0.00      3533\n",
      "          4       0.00      0.00      0.00      4574\n",
      "          5       0.45      0.10      0.17     59053\n",
      "\n",
      "avg / total       0.57      0.66      0.57    212918\n",
      "\n"
     ]
    },
    {
     "name": "stderr",
     "output_type": "stream",
     "text": [
      "/Users/radek.czarnecki/anaconda3/lib/python3.6/site-packages/sklearn/metrics/classification.py:1135: UndefinedMetricWarning: Precision and F-score are ill-defined and being set to 0.0 in labels with no predicted samples.\n",
      "  'precision', 'predicted', average, warn_for)\n"
     ]
    }
   ],
   "source": [
    "print(classification_report(y_train, prediction))"
   ]
  },
  {
   "cell_type": "code",
   "execution_count": 49,
   "metadata": {},
   "outputs": [
    {
     "name": "stdout",
     "output_type": "stream",
     "text": [
      "Test score r2: 0.656102051552\n"
     ]
    }
   ],
   "source": [
    "print('Test score r2:', model.score(X_test,y_test))"
   ]
  },
  {
   "cell_type": "markdown",
   "metadata": {},
   "source": [
    "#### KNeighbors"
   ]
  },
  {
   "cell_type": "code",
   "execution_count": 19,
   "metadata": {
    "scrolled": true
   },
   "outputs": [
    {
     "data": {
      "text/plain": [
       "Index(['dot_week', 'light_level', 'light_log_mms', 'light_log_sss',\n",
       "       'location_black', 'location_blue', 'location_green', 'location_orange',\n",
       "       'location_purple', 'motion', 'present', 'sound_log_mms',\n",
       "       'sound_log_sss', 'sun_cat', 'timestamp'],\n",
       "      dtype='object')"
      ]
     },
     "execution_count": 19,
     "metadata": {},
     "output_type": "execute_result"
    }
   ],
   "source": [
    "df.columns"
   ]
  },
  {
   "cell_type": "code",
   "execution_count": 20,
   "metadata": {},
   "outputs": [],
   "source": [
    "from sklearn.neighbors import KNeighborsClassifier\n",
    "from sklearn.metrics import confusion_matrix\n",
    "knn = KNeighborsClassifier(n_neighbors=5)"
   ]
  },
  {
   "cell_type": "code",
   "execution_count": 21,
   "metadata": {
    "scrolled": true
   },
   "outputs": [
    {
     "data": {
      "text/plain": [
       "KNeighborsClassifier(algorithm='auto', leaf_size=30, metric='minkowski',\n",
       "           metric_params=None, n_jobs=1, n_neighbors=5, p=2,\n",
       "           weights='uniform')"
      ]
     },
     "execution_count": 21,
     "metadata": {},
     "output_type": "execute_result"
    }
   ],
   "source": [
    "knn.fit(X_train, y_train)"
   ]
  },
  {
   "cell_type": "code",
   "execution_count": 22,
   "metadata": {},
   "outputs": [],
   "source": [
    "prediction5 = knn.predict(X_train)"
   ]
  },
  {
   "cell_type": "code",
   "execution_count": 23,
   "metadata": {},
   "outputs": [
    {
     "name": "stdout",
     "output_type": "stream",
     "text": [
      "[[131320    152     80    201    309   8973]\n",
      " [  1266    374     32     41     59    591]\n",
      " [  1276     59    329     63     76    557]\n",
      " [  1778     75     58    648    127    847]\n",
      " [  2184     57     59    109    964   1201]\n",
      " [ 16790    300    164    367    766  40666]]\n"
     ]
    }
   ],
   "source": [
    "print(confusion_matrix(y_train, prediction5))"
   ]
  },
  {
   "cell_type": "code",
   "execution_count": 24,
   "metadata": {},
   "outputs": [
    {
     "name": "stdout",
     "output_type": "stream",
     "text": [
      "             precision    recall  f1-score   support\n",
      "\n",
      "          0       0.85      0.93      0.89    141035\n",
      "          1       0.37      0.16      0.22      2363\n",
      "          2       0.46      0.14      0.21      2360\n",
      "          3       0.45      0.18      0.26      3533\n",
      "          4       0.42      0.21      0.28      4574\n",
      "          5       0.77      0.69      0.73     59053\n",
      "\n",
      "avg / total       0.80      0.82      0.81    212918\n",
      "\n"
     ]
    }
   ],
   "source": [
    "print(classification_report(y_train, prediction5))"
   ]
  },
  {
   "cell_type": "code",
   "execution_count": 25,
   "metadata": {},
   "outputs": [
    {
     "name": "stdout",
     "output_type": "stream",
     "text": [
      "Train score r2: 0.818629707211\n",
      "Test score r2: 0.684694459057\n"
     ]
    }
   ],
   "source": [
    "print('Train score r2:', knn.score(X_train,y_train))\n",
    "print('Test score r2:', knn.score(X_test,y_test))"
   ]
  },
  {
   "cell_type": "code",
   "execution_count": 614,
   "metadata": {},
   "outputs": [],
   "source": [
    "from sklearn.model_selection import cross_val_predict"
   ]
  },
  {
   "cell_type": "code",
   "execution_count": 615,
   "metadata": {},
   "outputs": [],
   "source": [
    "y_pred = cross_val_predict(knn, X_train, y_train)"
   ]
  },
  {
   "cell_type": "code",
   "execution_count": 616,
   "metadata": {},
   "outputs": [
    {
     "data": {
      "text/plain": [
       "array([[135858,     11,     11,     11,      5,     31,     39,    130,\n",
       "         14608],\n",
       "       [   280,      0,      1,      0,      0,      0,      2,      6,\n",
       "           183],\n",
       "       [   315,      2,      0,      0,      0,      2,      2,      6,\n",
       "           167],\n",
       "       [   283,      1,      1,      1,      0,      1,      0,      5,\n",
       "           165],\n",
       "       [   279,      0,      0,      0,      1,      4,      0,      4,\n",
       "           175],\n",
       "       [   602,      1,      1,      1,      0,      5,      4,      7,\n",
       "           328],\n",
       "       [   902,      0,      1,      1,      0,      6,      4,      6,\n",
       "           513],\n",
       "       [  1386,      4,      3,      1,      3,     10,      4,     31,\n",
       "           894],\n",
       "       [ 22452,     15,      7,     13,      8,     37,     59,    180,\n",
       "         29059]])"
      ]
     },
     "execution_count": 616,
     "metadata": {},
     "output_type": "execute_result"
    }
   ],
   "source": [
    "conf_mx = confusion_matrix(y_train, y_pred)\n",
    "conf_mx"
   ]
  },
  {
   "cell_type": "markdown",
   "metadata": {},
   "source": [
    "Regression models:\n",
    "    - linear support regressor\n",
    "    - linear vs non-linear kernel\n",
    "    - random forest\n",
    "    - XG Boost model"
   ]
  },
  {
   "cell_type": "code",
   "execution_count": 640,
   "metadata": {},
   "outputs": [
    {
     "data": {
      "text/plain": [
       "['data/sensing_numeric_full.sav']"
      ]
     },
     "execution_count": 640,
     "metadata": {},
     "output_type": "execute_result"
    }
   ],
   "source": [
    "from sklearn.externals import joblib\n",
    "filename = 'data/sensing_numeric_full.sav'\n",
    "joblib.dump(df, filename)"
   ]
  },
  {
   "cell_type": "markdown",
   "metadata": {},
   "source": [
    "Keras - Python library for LSTMs modeling\n",
    "- PyTorch\n"
   ]
  },
  {
   "cell_type": "code",
   "execution_count": 12,
   "metadata": {},
   "outputs": [],
   "source": [
    "from sklearn.ensemble import RandomForestClassifier\n",
    "from sklearn.metrics import classification_report\n",
    "from sklearn.metrics import confusion_matrix"
   ]
  },
  {
   "cell_type": "code",
   "execution_count": 13,
   "metadata": {},
   "outputs": [],
   "source": [
    "rndm_frst = RandomForestClassifier()"
   ]
  },
  {
   "cell_type": "code",
   "execution_count": 14,
   "metadata": {},
   "outputs": [
    {
     "data": {
      "text/plain": [
       "RandomForestClassifier(bootstrap=True, class_weight=None, criterion='gini',\n",
       "            max_depth=None, max_features='auto', max_leaf_nodes=None,\n",
       "            min_impurity_decrease=0.0, min_impurity_split=None,\n",
       "            min_samples_leaf=1, min_samples_split=2,\n",
       "            min_weight_fraction_leaf=0.0, n_estimators=10, n_jobs=1,\n",
       "            oob_score=False, random_state=None, verbose=0,\n",
       "            warm_start=False)"
      ]
     },
     "execution_count": 14,
     "metadata": {},
     "output_type": "execute_result"
    }
   ],
   "source": [
    "rndm_frst.fit(X_train, y_train)"
   ]
  },
  {
   "cell_type": "code",
   "execution_count": 15,
   "metadata": {},
   "outputs": [],
   "source": [
    "rndm_frst_pred = rndm_frst.predict(X_train)"
   ]
  },
  {
   "cell_type": "code",
   "execution_count": 16,
   "metadata": {},
   "outputs": [
    {
     "name": "stdout",
     "output_type": "stream",
     "text": [
      "             precision    recall  f1-score   support\n",
      "\n",
      "          0       0.91      0.95      0.93    141035\n",
      "          1       0.77      0.57      0.65      2363\n",
      "          2       0.80      0.55      0.65      2360\n",
      "          3       0.79      0.56      0.66      3533\n",
      "          4       0.79      0.60      0.68      4574\n",
      "          5       0.87      0.82      0.84     59053\n",
      "\n",
      "avg / total       0.89      0.89      0.89    212918\n",
      "\n"
     ]
    }
   ],
   "source": [
    "print(classification_report(y_train, rndm_frst_pred))"
   ]
  },
  {
   "cell_type": "code",
   "execution_count": 17,
   "metadata": {},
   "outputs": [
    {
     "data": {
      "image/png": "[encoded data removed]",
      "text/plain": [
       "<matplotlib.figure.Figure at 0x1a0d925668>"
      ]
     },
     "metadata": {},
     "output_type": "display_data"
    }
   ],
   "source": [
    "mat = confusion_matrix(y_train, rndm_frst_pred)\n",
    "sns.heatmap(mat.T, square=True, annot=True, fmt='d', cmap = 'viridis', cbar=False)\n",
    "plt.xlabel('true label')\n",
    "plt.ylabel('predicted label');"
   ]
  },
  {
   "cell_type": "code",
   "execution_count": 18,
   "metadata": {},
   "outputs": [
    {
     "name": "stdout",
     "output_type": "stream",
     "text": [
      "Train score r2: 0.894085986154\n",
      "Test score r2: 0.661263808522\n"
     ]
    }
   ],
   "source": [
    "print('Train score r2:', rndm_frst.score(X_train,y_train))\n",
    "print('Test score r2:', rndm_frst.score(X_test,y_test))"
   ]
  },
  {
   "cell_type": "code",
   "execution_count": null,
   "metadata": {},
   "outputs": [],
   "source": []
  }
 ],
 "metadata": {
  "kernelspec": {
   "display_name": "Python 3",
   "language": "python",
   "name": "python3"
  },
  "language_info": {
   "codemirror_mode": {
    "name": "ipython",
    "version": 3
   },
   "file_extension": ".py",
   "mimetype": "text/x-python",
   "name": "python",
   "nbconvert_exporter": "python",
   "pygments_lexer": "ipython3",
   "version": "3.6.4"
  }
 },
 "nbformat": 4,
 "nbformat_minor": 2
}
