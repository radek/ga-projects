{
 "cells": [
  {
   "cell_type": "markdown",
   "metadata": {},
   "source": [
    "## Solar\n",
    "\n",
    "Project Solar is an attempt to equire information about sourounding envrionment in a living space, analize it, and build predictions in order to answer:\n",
    "\n",
    "> Determine value of artificial light to counteract its natural deficit\n",
    "\n",
    "+ Given time of the day, provide an answer about the level of light\n",
    "+ Given time of the day (and day of the week) - provide an answer if light should be on"
   ]
  },
  {
   "cell_type": "code",
   "execution_count": 18,
   "metadata": {},
   "outputs": [],
   "source": [
    "import pandas as pd\n",
    "import numpy as np\n",
    "from sklearn.model_selection import train_test_split\n",
    "from sklearn.linear_model import LinearRegression\n",
    "from sklearn import feature_selection"
   ]
  },
  {
   "cell_type": "code",
   "execution_count": 19,
   "metadata": {},
   "outputs": [
    {
     "data": {
      "text/plain": [
       "Index(['motion', 'light_scaled', 'sound_scaled', 'location_black',\n",
       "       'location_blue', 'location_green', 'location_orange', 'location_purple',\n",
       "       'sun_evening', 'sun_morning', 'sun_night', 'sun_noon', 'sun_sunrise',\n",
       "       'sun_sunset', 'dot_week', 'sound_log_scaled', 'light_log_scaled'],\n",
       "      dtype='object')"
      ]
     },
     "execution_count": 19,
     "metadata": {},
     "output_type": "execute_result"
    }
   ],
   "source": [
    "df = pd.read_pickle('data/sensing_numeric.pkl')\n",
    "df.columns"
   ]
  },
  {
   "cell_type": "markdown",
   "metadata": {},
   "source": [
    "#### Feature selection"
   ]
  },
  {
   "cell_type": "code",
   "execution_count": 20,
   "metadata": {},
   "outputs": [],
   "source": [
    "y = df['light_log_scaled']\n",
    "X = df[[\n",
    "    'motion', \n",
    "    'sound_log_scaled', \n",
    "    'location_black', \n",
    "    'location_blue', \n",
    "    'location_green', \n",
    "    'location_orange', \n",
    "    'location_purple', \n",
    "    'sun_evening', \n",
    "    'sun_morning', \n",
    "    'sun_night', \n",
    "    'sun_noon', \n",
    "    'sun_sunrise', \n",
    "    'sun_sunset',\n",
    "    'dot_week']]"
   ]
  },
  {
   "cell_type": "markdown",
   "metadata": {},
   "source": [
    "#### Train split"
   ]
  },
  {
   "cell_type": "code",
   "execution_count": 21,
   "metadata": {},
   "outputs": [],
   "source": [
    "X_train, X_test, y_train, y_test = train_test_split(X, y)"
   ]
  },
  {
   "cell_type": "markdown",
   "metadata": {},
   "source": [
    "#### LinearRegression"
   ]
  },
  {
   "cell_type": "code",
   "execution_count": 22,
   "metadata": {
    "scrolled": false
   },
   "outputs": [],
   "source": [
    "from helpers import fit_predict\n",
    "linReg = LinearRegression()"
   ]
  },
  {
   "cell_type": "code",
   "execution_count": 23,
   "metadata": {},
   "outputs": [
    {
     "name": "stdout",
     "output_type": "stream",
     "text": [
      "p-values:\n",
      "[  0.00000000e+000   0.00000000e+000   0.00000000e+000   1.54882128e-010\n",
      "   0.00000000e+000   0.00000000e+000   0.00000000e+000   1.97821110e-106\n",
      "   4.27926655e-025   0.00000000e+000   0.00000000e+000   0.00000000e+000\n",
      "   2.07551782e-019   5.27189196e-017]\n",
      "\n",
      "coefficients:\n",
      "[ -5.50581096e-01   3.75150149e-01  -2.26835162e+11  -2.26835162e+11\n",
      "  -2.26835162e+11  -2.26835162e+11  -2.26835162e+11   1.05118172e+00\n",
      "   1.05651538e+00   3.04772949e+00  -2.68920898e-01   3.68486023e+00\n",
      "   9.95101929e-01   1.67846680e-02]\n",
      "\n",
      "intercept: 226835161927.22046\n",
      "\n",
      "score: 0.5419438942568024\n",
      "\n",
      "mean square root: 1.769879593308671\n",
      "\n"
     ]
    }
   ],
   "source": [
    "fit_predict(X_train, y_train, linReg)"
   ]
  },
  {
   "cell_type": "markdown",
   "metadata": {},
   "source": [
    "#### Feature Selection"
   ]
  },
  {
   "cell_type": "code",
   "execution_count": 24,
   "metadata": {},
   "outputs": [],
   "source": [
    "from sklearn.feature_selection import SelectPercentile\n",
    "select = SelectPercentile(percentile=50)"
   ]
  },
  {
   "cell_type": "code",
   "execution_count": 25,
   "metadata": {},
   "outputs": [
    {
     "data": {
      "text/plain": [
       "SelectPercentile(percentile=50,\n",
       "         score_func=<function f_classif at 0x10a480d90>)"
      ]
     },
     "execution_count": 25,
     "metadata": {},
     "output_type": "execute_result"
    }
   ],
   "source": [
    "select.fit(X_train, y_train)"
   ]
  },
  {
   "cell_type": "code",
   "execution_count": 26,
   "metadata": {},
   "outputs": [],
   "source": [
    "X_train_selected = select.transform(X_train)"
   ]
  },
  {
   "cell_type": "code",
   "execution_count": 27,
   "metadata": {},
   "outputs": [
    {
     "data": {
      "text/plain": [
       "(280224, 14)"
      ]
     },
     "execution_count": 27,
     "metadata": {},
     "output_type": "execute_result"
    }
   ],
   "source": [
    "X_train.shape"
   ]
  },
  {
   "cell_type": "code",
   "execution_count": 28,
   "metadata": {},
   "outputs": [
    {
     "data": {
      "text/plain": [
       "(280224, 7)"
      ]
     },
     "execution_count": 28,
     "metadata": {},
     "output_type": "execute_result"
    }
   ],
   "source": [
    "X_train_selected.shape"
   ]
  },
  {
   "cell_type": "code",
   "execution_count": 29,
   "metadata": {},
   "outputs": [],
   "source": [
    "mask = select.get_support()"
   ]
  },
  {
   "cell_type": "code",
   "execution_count": 30,
   "metadata": {
    "scrolled": true
   },
   "outputs": [
    {
     "name": "stdout",
     "output_type": "stream",
     "text": [
      "p-values:\n",
      "[  0.00000000e+00   0.00000000e+00   1.54882128e-10   0.00000000e+00\n",
      "   0.00000000e+00   0.00000000e+00   0.00000000e+00]\n",
      "\n",
      "coefficients:\n",
      "[-0.81918698  0.71457463 -1.35204467 -4.13105701  0.20642676 -2.06620602\n",
      " -1.60605526]\n",
      "\n",
      "intercept: 4.344934721096711\n",
      "\n",
      "score: 0.3535735766565332\n",
      "\n",
      "mean square root: 2.1025383876793975\n",
      "\n"
     ]
    }
   ],
   "source": [
    "fit_predict(X_train_selected, y_train, linReg)"
   ]
  },
  {
   "cell_type": "markdown",
   "metadata": {},
   "source": [
    "Regression models:\n",
    "    - linear support regressor\n",
    "    - linear vs non-linear kernel\n",
    "    - random forest\n",
    "    - XG Boost model"
   ]
  },
  {
   "cell_type": "markdown",
   "metadata": {},
   "source": [
    "Keras - Python library for LSTMs modeling\n",
    "- PyTorch\n"
   ]
  }
 ],
 "metadata": {
  "kernelspec": {
   "display_name": "Python 3",
   "language": "python",
   "name": "python3"
  },
  "language_info": {
   "codemirror_mode": {
    "name": "ipython",
    "version": 3
   },
   "file_extension": ".py",
   "mimetype": "text/x-python",
   "name": "python",
   "nbconvert_exporter": "python",
   "pygments_lexer": "ipython3",
   "version": "3.6.4"
  }
 },
 "nbformat": 4,
 "nbformat_minor": 2
}
