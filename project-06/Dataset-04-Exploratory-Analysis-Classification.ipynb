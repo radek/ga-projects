{
 "cells": [
  {
   "cell_type": "markdown",
   "metadata": {},
   "source": [
    "## Solar\n",
    "\n",
    "Project Solar is an attempt to equire information about sourounding envrionment in a living space, analize it, and build predictions in order to answer:\n",
    "\n",
    "> Determine value of artificial light to counteract its natural deficit\n",
    "\n",
    "+ Given time of the day, provide an answer about the level of light\n",
    "+ Given time of the day (and day of the week) - provide an answer if light should be on"
   ]
  },
  {
   "cell_type": "code",
   "execution_count": 693,
   "metadata": {},
   "outputs": [],
   "source": [
    "import pandas as pd\n",
    "import seaborn as sns\n",
    "import matplotlib.pyplot as plt\n",
    "import numpy as np\n",
    "\n",
    "from sklearn.model_selection import train_test_split"
   ]
  },
  {
   "cell_type": "code",
   "execution_count": 694,
   "metadata": {},
   "outputs": [
    {
     "data": {
      "text/plain": [
       "Index(['dot_week', 'light_level', 'light_log_mms', 'light_log_sss',\n",
       "       'location_black', 'location_blue', 'location_green', 'location_orange',\n",
       "       'location_purple', 'motion', 'present', 'sound_log_mms',\n",
       "       'sound_log_sss', 'sun_cat'],\n",
       "      dtype='object')"
      ]
     },
     "execution_count": 694,
     "metadata": {},
     "output_type": "execute_result"
    }
   ],
   "source": [
    "from sklearn.externals import joblib\n",
    "df = joblib.load('data/sensing_numeric.sav')\n",
    "df.columns"
   ]
  },
  {
   "cell_type": "markdown",
   "metadata": {},
   "source": [
    "Calculate 25 percentile of light at each location."
   ]
  },
  {
   "cell_type": "raw",
   "metadata": {},
   "source": [
    "def get_daily_light_percentile(dataframe, q):\n",
    "    light_log_scaled_percentile = lambda x: np.percentile(x, q = q)\n",
    "    \n",
    "    light_daily_banchmark = dataframe.groupby([\n",
    "        dataframe.index.get_level_values('timestamp').day,\n",
    "        'location_black', \n",
    "        'location_blue', \n",
    "        'location_green', \n",
    "        'location_orange', \n",
    "        'location_purple']).agg({\n",
    "            'light_log_scaled': light_log_scaled_percentile\n",
    "        }).rename(columns={'light_log_scaled': 'light_log_scaled_percentile_{}'.format(q)})\n",
    "    return light_daily_banchmark\n",
    "\n",
    "daily_light_percentile_25 = get_daily_light_percentile(df, 25)"
   ]
  },
  {
   "cell_type": "markdown",
   "metadata": {},
   "source": [
    "Add percentile to data set."
   ]
  },
  {
   "cell_type": "raw",
   "metadata": {},
   "source": [
    "def add_quantile(dataframe):\n",
    "    location_indexer = [\n",
    "        'location_black', \n",
    "        'location_blue', \n",
    "        'location_green', \n",
    "        'location_orange', \n",
    "        'location_purple'\n",
    "    ]\n",
    "\n",
    "    for time in dataframe.index.get_level_values('timestamp').unique():\n",
    "        day_group = dataframe.xs(time, level='timestamp', axis=0)\n",
    "        for location_name in location_indexer:\n",
    "            percentile = day_group.xs(1, level=location_name)['light_log_scaled_percentile_25']\n",
    "            df.loc[((df.index.day == time) & (df[location_name] == 1)), 'daily_light_percentile_25'] = percentile.values[0] if len(percentile.values) else 0\n",
    "        \n",
    "add_quantile(daily_light_percentile_25)"
   ]
  },
  {
   "cell_type": "markdown",
   "metadata": {},
   "source": [
    "Hourly motion deviation per day of the week at each location "
   ]
  },
  {
   "cell_type": "raw",
   "metadata": {},
   "source": [
    "motion_hourly_banchmark = df.groupby([\n",
    "    df.index.get_level_values('timestamp').hour,\n",
    "    'dot_week',\n",
    "    'location_black', \n",
    "    'location_blue', \n",
    "    'location_green', \n",
    "    'location_orange', \n",
    "    'location_purple']).agg({'motion': ['sum', 'std']})"
   ]
  },
  {
   "cell_type": "raw",
   "metadata": {},
   "source": [
    "def add_motion_std(dataframe):\n",
    "    location_indexer = [\n",
    "        'location_black', \n",
    "        'location_blue', \n",
    "        'location_green', \n",
    "        'location_orange', \n",
    "        'location_purple'\n",
    "    ]\n",
    "\n",
    "    for time in dataframe.index.get_level_values('timestamp').unique():\n",
    "        day_hour_group = dataframe.xs(time, level='timestamp', axis=0)\n",
    "        for dotw in day_hour_group.index.get_level_values('dot_week').unique():\n",
    "            day_group = day_hour_group.xs(dotw, level='dot_week', axis=0)\n",
    "            for location_name in location_indexer:\n",
    "                std_dev = day_group.xs(1, level=location_name)['motion']['std']\n",
    "                df.loc[((df.index.day == time) & (df['dot_week'] == dotw) & (df[location_name] == 1)), 'daily_motion_std_dev'] = std_dev.values[0] if len(std_dev.values) else 0\n",
    "        \n",
    "add_motion_std(motion_hourly_banchmark)"
   ]
  },
  {
   "cell_type": "markdown",
   "metadata": {},
   "source": [
    "Adding additional feature."
   ]
  },
  {
   "cell_type": "raw",
   "metadata": {
    "scrolled": true
   },
   "source": [
    "MINIMUM_DAILY_HOUR_MOTION_DEVIATION = .15\n",
    "\n",
    "def get_light_expected(row):\n",
    "    return 1 if ((row['daily_motion_std_dev'] > MINIMUM_DAILY_HOUR_MOTION_DEVIATION) &\n",
    "        (row['light_log_scaled'] < row['daily_light_percentile_25'])) else 0\n",
    "\n",
    "df['light_expected'] = df.apply(get_light_expected, axis=1)"
   ]
  },
  {
   "cell_type": "code",
   "execution_count": 664,
   "metadata": {
    "scrolled": true
   },
   "outputs": [
    {
     "name": "stdout",
     "output_type": "stream",
     "text": [
      "<class 'pandas.core.frame.DataFrame'>\n",
      "MultiIndex: 565223 entries, (1, 2018-05-01 01:09:00) to (576227, 2018-05-19 23:38:00)\n",
      "Data columns (total 13 columns):\n",
      "dot_week           565223 non-null int64\n",
      "light_level        565223 non-null int64\n",
      "light_log_mms      565223 non-null float64\n",
      "light_log_sss      565223 non-null float64\n",
      "location_black     565223 non-null uint8\n",
      "location_blue      565223 non-null uint8\n",
      "location_green     565223 non-null uint8\n",
      "location_orange    565223 non-null uint8\n",
      "location_purple    565223 non-null uint8\n",
      "motion             565223 non-null int64\n",
      "sound_log_mms      565223 non-null float64\n",
      "sound_log_sss      565223 non-null float64\n",
      "sun_cat            565223 non-null int8\n",
      "dtypes: float64(4), int64(3), int8(1), uint8(5)\n",
      "memory usage: 41.2 MB\n"
     ]
    }
   ],
   "source": [
    "df.info()"
   ]
  },
  {
   "cell_type": "markdown",
   "metadata": {},
   "source": [
    "#### Feature selection (including sensing)"
   ]
  },
  {
   "cell_type": "code",
   "execution_count": 695,
   "metadata": {},
   "outputs": [
    {
     "name": "stderr",
     "output_type": "stream",
     "text": [
      "/Users/radek.czarnecki/anaconda3/lib/python3.6/site-packages/sklearn/utils/validation.py:475: DataConversionWarning: Data with input dtype int64 was converted to float64 by StandardScaler.\n",
      "  warnings.warn(msg, DataConversionWarning)\n"
     ]
    }
   ],
   "source": [
    "from sklearn.preprocessing import StandardScaler\n",
    "ss = StandardScaler()\n",
    "df['light_level_sss'] = ss.fit_transform(df['light_level'].values.reshape(-1,1))"
   ]
  },
  {
   "cell_type": "code",
   "execution_count": 696,
   "metadata": {
    "scrolled": true
   },
   "outputs": [
    {
     "name": "stdout",
     "output_type": "stream",
     "text": [
      "<class 'pandas.core.frame.DataFrame'>\n",
      "MultiIndex: 589227 entries, (1, 2018-05-01 01:09:00) to (600232, 2018-05-20 22:58:00)\n",
      "Data columns (total 10 columns):\n",
      "dot_week           589227 non-null int64\n",
      "location_black     589227 non-null uint8\n",
      "location_blue      589227 non-null uint8\n",
      "location_green     589227 non-null uint8\n",
      "location_orange    589227 non-null uint8\n",
      "location_purple    589227 non-null uint8\n",
      "motion             589227 non-null int64\n",
      "present            589227 non-null int64\n",
      "sound_log_sss      589227 non-null float64\n",
      "sun_cat            589227 non-null int8\n",
      "dtypes: float64(1), int64(3), int8(1), uint8(5)\n",
      "memory usage: 29.4 MB\n"
     ]
    }
   ],
   "source": [
    "y = df['light_level']\n",
    "X = df[df.columns.difference(['light_level_sss','light_level','light_log_mms','light_log_sss','sound_log_mms'])]\n",
    "X.info()"
   ]
  },
  {
   "cell_type": "markdown",
   "metadata": {},
   "source": [
    "#### Train split"
   ]
  },
  {
   "cell_type": "code",
   "execution_count": 697,
   "metadata": {},
   "outputs": [],
   "source": [
    "X_train, X_test, y_train, y_test = train_test_split(X, y)"
   ]
  },
  {
   "cell_type": "markdown",
   "metadata": {},
   "source": [
    "#### Logistic Regression"
   ]
  },
  {
   "cell_type": "code",
   "execution_count": 674,
   "metadata": {
    "scrolled": true
   },
   "outputs": [],
   "source": [
    "from sklearn.linear_model import LogisticRegression\n",
    "from helpers import print_predict_scores\n",
    "from helpers import fit_predict\n",
    "logReg = LogisticRegression()"
   ]
  },
  {
   "cell_type": "code",
   "execution_count": 675,
   "metadata": {
    "scrolled": true
   },
   "outputs": [
    {
     "name": "stdout",
     "output_type": "stream",
     "text": [
      "p-values:\n",
      "[  1.31179820e-145   3.31730796e-029   4.09001793e-001   1.33012136e-003\n",
      "   1.12112347e-023   2.01227720e-006   0.00000000e+000   3.54114052e-302\n",
      "   0.00000000e+000]\n",
      "\n",
      "coefficients:\n",
      "[[  3.50683455e-02   1.13768239e-02  -2.89545318e-02  -6.26249105e-02\n",
      "   -3.03357683e-02   5.68234876e-02  -9.22049459e-01  -7.57268863e-02\n",
      "    4.39801409e-01]\n",
      " [  5.46408033e-04  -6.76396316e-01  -7.04910386e-01  -7.00831525e-01\n",
      "   -6.82782339e-01  -7.06768909e-01   3.11995025e-01  -4.57857959e-02\n",
      "   -1.85766951e-01]\n",
      " [ -4.58595727e-04  -6.99970410e-01  -6.51525617e-01  -7.23846976e-01\n",
      "   -6.46457347e-01  -6.89113923e-01   1.16469330e-01  -4.86220158e-02\n",
      "   -2.33103193e-01]\n",
      " [  1.53710051e-02  -6.04928623e-01  -6.01977411e-01  -6.67019594e-01\n",
      "   -5.98342261e-01  -6.52181102e-01   2.80325874e-01  -7.46766781e-02\n",
      "   -2.18745102e-01]\n",
      " [ -1.66067626e-03  -5.94304384e-01  -5.42883880e-01  -5.71907685e-01\n",
      "   -5.24951410e-01  -6.32383804e-01   4.97102529e-01  -6.61407410e-02\n",
      "   -2.28667839e-01]\n",
      " [ -4.10382546e-02  -6.65197667e-02  -3.04809757e-02   2.13056390e-02\n",
      "   -3.49446737e-02  -1.08914692e-01   8.67330244e-01   1.05722363e-01\n",
      "   -4.26405017e-01]]\n",
      "\n",
      "intercept: [-0.0537149  -3.47168948 -3.41091427 -3.12444899 -2.86643116 -0.21955447]\n",
      "\n",
      "score: 0.6775548043602875\n",
      "\n",
      "mean square root: 2.6563086379646013\n",
      "\n"
     ]
    }
   ],
   "source": [
    "(model, prediction) = fit_predict(X_train, y_train, logReg)"
   ]
  },
  {
   "cell_type": "code",
   "execution_count": 676,
   "metadata": {},
   "outputs": [],
   "source": [
    "from sklearn.metrics import mean_squared_error, classification_report, precision_score, recall_score, confusion_matrix"
   ]
  },
  {
   "cell_type": "code",
   "execution_count": 677,
   "metadata": {},
   "outputs": [
    {
     "name": "stdout",
     "output_type": "stream",
     "text": [
      "7.05597558013\n",
      "             precision    recall  f1-score   support\n",
      "\n",
      "          0       0.68      0.97      0.80    284117\n",
      "          1       0.00      0.00      0.00      4907\n",
      "          2       0.00      0.00      0.00      4824\n",
      "          3       0.00      0.00      0.00      7351\n",
      "          4       0.00      0.00      0.00      9536\n",
      "          5       0.54      0.10      0.16    113182\n",
      "\n",
      "avg / total       0.60      0.68      0.58    423917\n",
      "\n"
     ]
    },
    {
     "name": "stderr",
     "output_type": "stream",
     "text": [
      "/Users/radek.czarnecki/anaconda3/lib/python3.6/site-packages/sklearn/metrics/classification.py:1135: UndefinedMetricWarning: Precision and F-score are ill-defined and being set to 0.0 in labels with no predicted samples.\n",
      "  'precision', 'predicted', average, warn_for)\n"
     ]
    }
   ],
   "source": [
    "print(mean_squared_error(y_train, prediction))\n",
    "print(classification_report(y_train, prediction))"
   ]
  },
  {
   "cell_type": "code",
   "execution_count": 678,
   "metadata": {},
   "outputs": [
    {
     "name": "stdout",
     "output_type": "stream",
     "text": [
      "Test score r2: 0.677756075467\n"
     ]
    }
   ],
   "source": [
    "print('Test score r2:', logReg.score(X_test,y_test))"
   ]
  },
  {
   "cell_type": "markdown",
   "metadata": {},
   "source": [
    "#### Stochastic Gradient Descent classifier"
   ]
  },
  {
   "cell_type": "code",
   "execution_count": 679,
   "metadata": {},
   "outputs": [],
   "source": [
    "from sklearn.linear_model import SGDClassifier\n",
    "sgd = SGDClassifier()"
   ]
  },
  {
   "cell_type": "code",
   "execution_count": 680,
   "metadata": {
    "scrolled": true
   },
   "outputs": [
    {
     "name": "stdout",
     "output_type": "stream",
     "text": [
      "p-values:\n",
      "[  1.31179820e-145   3.31730796e-029   4.09001793e-001   1.33012136e-003\n",
      "   1.12112347e-023   2.01227720e-006   0.00000000e+000   3.54114052e-302\n",
      "   0.00000000e+000]\n",
      "\n",
      "coefficients:\n",
      "[[  3.50683455e-02   1.13768239e-02  -2.89545318e-02  -6.26249105e-02\n",
      "   -3.03357683e-02   5.68234876e-02  -9.22049459e-01  -7.57268863e-02\n",
      "    4.39801409e-01]\n",
      " [  5.46408033e-04  -6.76396316e-01  -7.04910386e-01  -7.00831525e-01\n",
      "   -6.82782339e-01  -7.06768909e-01   3.11995025e-01  -4.57857959e-02\n",
      "   -1.85766951e-01]\n",
      " [ -4.58595727e-04  -6.99970410e-01  -6.51525617e-01  -7.23846976e-01\n",
      "   -6.46457347e-01  -6.89113923e-01   1.16469330e-01  -4.86220158e-02\n",
      "   -2.33103193e-01]\n",
      " [  1.53710051e-02  -6.04928623e-01  -6.01977411e-01  -6.67019594e-01\n",
      "   -5.98342261e-01  -6.52181102e-01   2.80325874e-01  -7.46766781e-02\n",
      "   -2.18745102e-01]\n",
      " [ -1.66067626e-03  -5.94304384e-01  -5.42883880e-01  -5.71907685e-01\n",
      "   -5.24951410e-01  -6.32383804e-01   4.97102529e-01  -6.61407410e-02\n",
      "   -2.28667839e-01]\n",
      " [ -4.10382546e-02  -6.65197667e-02  -3.04809757e-02   2.13056390e-02\n",
      "   -3.49446737e-02  -1.08914692e-01   8.67330244e-01   1.05722363e-01\n",
      "   -4.26405017e-01]]\n",
      "\n",
      "intercept: [-0.0537149  -3.47168948 -3.41091427 -3.12444899 -2.86643116 -0.21955447]\n",
      "\n",
      "score: 0.6775548043602875\n",
      "\n",
      "mean square root: 2.6563086379646013\n",
      "\n"
     ]
    }
   ],
   "source": [
    "(model, prediction) = fit_predict(X_train, y_train, logReg)"
   ]
  },
  {
   "cell_type": "code",
   "execution_count": 681,
   "metadata": {
    "scrolled": true
   },
   "outputs": [
    {
     "name": "stdout",
     "output_type": "stream",
     "text": [
      "Test score: 0.677756075467\n"
     ]
    }
   ],
   "source": [
    "print('Test score:', model.score(X_test,y_test))"
   ]
  },
  {
   "cell_type": "markdown",
   "metadata": {},
   "source": [
    "#### Parameters optimization - cross validation"
   ]
  },
  {
   "cell_type": "code",
   "execution_count": 586,
   "metadata": {},
   "outputs": [],
   "source": [
    "from sklearn.model_selection import GridSearchCV, KFold"
   ]
  },
  {
   "cell_type": "code",
   "execution_count": 587,
   "metadata": {},
   "outputs": [],
   "source": [
    "param_grid = [\n",
    "    {'C': [10**-i for i in range(-5, 5)], 'class_weight': [None, 'balanced']}\n",
    "]\n",
    "grid = GridSearchCV(\n",
    "    estimator=logReg,\n",
    "    param_grid=param_grid,\n",
    "    cv=7,\n",
    "    scoring = 'neg_mean_squared_error'\n",
    ")"
   ]
  },
  {
   "cell_type": "code",
   "execution_count": 588,
   "metadata": {
    "scrolled": false
   },
   "outputs": [
    {
     "data": {
      "text/plain": [
       "LogisticRegression(C=100000, class_weight=None, dual=False,\n",
       "          fit_intercept=True, intercept_scaling=1, max_iter=100,\n",
       "          multi_class='ovr', n_jobs=1, penalty='l2', random_state=None,\n",
       "          solver='liblinear', tol=0.0001, verbose=0, warm_start=False)"
      ]
     },
     "execution_count": 588,
     "metadata": {},
     "output_type": "execute_result"
    }
   ],
   "source": [
    "grid.fit(X_train, y_train)\n",
    "grid.best_estimator_"
   ]
  },
  {
   "cell_type": "code",
   "execution_count": 589,
   "metadata": {},
   "outputs": [
    {
     "name": "stdout",
     "output_type": "stream",
     "text": [
      "p-values:\n",
      "[  0.00000000e+000   7.81591889e-001   8.22329104e-006   1.09508329e-120\n",
      "   3.25909785e-014   5.69222709e-006   5.89836426e-007   0.00000000e+000\n",
      "   0.00000000e+000]\n",
      "\n",
      "coefficients:\n",
      "[[-1.14637545 -1.11456695  0.00260649 -0.19394196  0.09117005 -0.18489674\n",
      "   0.17982027  0.40133189  0.35172401]\n",
      " [ 0.8405488   1.41654391 -0.92625755 -0.80815717 -1.02096276 -0.77981337\n",
      "  -1.09993522 -0.31155181 -0.24025492]\n",
      " [ 0.65481086  0.77906726 -0.93237243 -0.87283014 -0.98662389 -0.71375082\n",
      "  -0.96555748 -0.27671844 -0.24430037]\n",
      " [ 0.50300216  0.40165074 -0.88936004 -0.77870008 -1.0002758  -0.83414316\n",
      "  -0.98458923 -0.30175319 -0.19627103]\n",
      " [ 0.22944994  1.32072953 -1.0159605  -0.81311794 -1.09116195 -0.73075688\n",
      "  -0.96110659 -0.28753594 -0.23598012]\n",
      " [ 0.2398079   1.27264136 -0.88878623 -0.69139848 -0.94399001 -0.61837409\n",
      "  -0.8532268  -0.30064654 -0.23054582]\n",
      " [ 0.31047884  0.61925708 -0.72036772 -0.60853525 -0.80208916 -0.63795111\n",
      "  -0.76516407 -0.29335613 -0.22036897]\n",
      " [ 0.68295054  0.59798642 -0.64228512 -0.55159375 -0.67634228 -0.53924919\n",
      "  -0.72134774 -0.3009286  -0.22551027]\n",
      " [ 1.09940058  1.07749441 -0.03919423  0.14530137 -0.12550683  0.14058966\n",
      "  -0.21880397 -0.37649538 -0.33444912]]\n",
      "\n",
      "intercept: [-0.10524188 -4.63512607 -4.47113475 -4.48706831 -4.61210386 -3.99577561\n",
      " -3.5341073  -3.13081808 -0.097614  ]\n",
      "\n",
      "score: 0.7216335625280915\n",
      "\n",
      "mean square root: 4.602269586674625\n",
      "\n"
     ]
    }
   ],
   "source": [
    "(model, prediction) = fit_predict(X_train, y_train, grid.best_estimator_)"
   ]
  },
  {
   "cell_type": "code",
   "execution_count": 590,
   "metadata": {},
   "outputs": [
    {
     "name": "stdout",
     "output_type": "stream",
     "text": [
      "             precision    recall  f1-score   support\n",
      "\n",
      "          0       0.74      0.94      0.83    150704\n",
      "          1       0.00      0.00      0.00       472\n",
      "          2       0.00      0.00      0.00       494\n",
      "          4       0.00      0.00      0.00       457\n",
      "          5       0.00      0.00      0.00       463\n",
      "          6       0.00      0.00      0.00       949\n",
      "          7       0.00      0.00      0.00      1433\n",
      "          8       0.00      0.00      0.00      2336\n",
      "          9       0.48      0.17      0.25     51830\n",
      "\n",
      "avg / total       0.66      0.72      0.66    209138\n",
      "\n"
     ]
    },
    {
     "name": "stderr",
     "output_type": "stream",
     "text": [
      "/Users/radek.czarnecki/anaconda3/lib/python3.6/site-packages/sklearn/metrics/classification.py:1135: UndefinedMetricWarning: Precision and F-score are ill-defined and being set to 0.0 in labels with no predicted samples.\n",
      "  'precision', 'predicted', average, warn_for)\n"
     ]
    }
   ],
   "source": [
    "print(classification_report(y_train, prediction))"
   ]
  },
  {
   "cell_type": "code",
   "execution_count": 591,
   "metadata": {},
   "outputs": [
    {
     "name": "stdout",
     "output_type": "stream",
     "text": [
      "Test score r2: 0.723968269907\n"
     ]
    }
   ],
   "source": [
    "print('Test score r2:', model.score(X_test,y_test))"
   ]
  },
  {
   "cell_type": "markdown",
   "metadata": {},
   "source": [
    "#### Testing Lasso, Ridge, ElasticNet"
   ]
  },
  {
   "cell_type": "code",
   "execution_count": 592,
   "metadata": {},
   "outputs": [],
   "source": [
    "from sklearn.linear_model import Lasso, Ridge, ElasticNet\n",
    "from sklearn.metrics import mean_squared_error"
   ]
  },
  {
   "cell_type": "code",
   "execution_count": 593,
   "metadata": {},
   "outputs": [
    {
     "data": {
      "text/plain": [
       "GridSearchCV(cv=5, error_score='raise',\n",
       "       estimator=Lasso(alpha=1.0, copy_X=True, fit_intercept=True, max_iter=1000,\n",
       "   normalize=False, positive=False, precompute=False, random_state=None,\n",
       "   selection='cyclic', tol=0.0001, warm_start=False),\n",
       "       fit_params=None, iid=True, n_jobs=1,\n",
       "       param_grid=[{'alpha': [0.1, 0.2, 0.3, 0.5]}],\n",
       "       pre_dispatch='2*n_jobs', refit=True, return_train_score='warn',\n",
       "       scoring='neg_mean_squared_error', verbose=0)"
      ]
     },
     "execution_count": 593,
     "metadata": {},
     "output_type": "execute_result"
    }
   ],
   "source": [
    "params = [\n",
    "    {'alpha': [0.1, 0.2, 0.3, 0.5]}\n",
    "]\n",
    "lasso = Lasso()\n",
    "grid_search_lasso = GridSearchCV(lasso, params, cv=5, scoring='neg_mean_squared_error')\n",
    "grid_search_lasso.fit(X_train, y_train)"
   ]
  },
  {
   "cell_type": "code",
   "execution_count": 594,
   "metadata": {
    "scrolled": true
   },
   "outputs": [
    {
     "data": {
      "text/plain": [
       "Lasso(alpha=0.1, copy_X=True, fit_intercept=True, max_iter=1000,\n",
       "   normalize=False, positive=False, precompute=False, random_state=None,\n",
       "   selection='cyclic', tol=0.0001, warm_start=False)"
      ]
     },
     "execution_count": 594,
     "metadata": {},
     "output_type": "execute_result"
    }
   ],
   "source": [
    "grid_search_lasso.best_estimator_\n",
    "lasso_model = grid_search_lasso.best_estimator_\n",
    "lasso_model.fit(X_train, y_train)"
   ]
  },
  {
   "cell_type": "code",
   "execution_count": 595,
   "metadata": {},
   "outputs": [
    {
     "name": "stdout",
     "output_type": "stream",
     "text": [
      "mean square root error :\n",
      "3.718970833212442\n",
      "\n"
     ]
    }
   ],
   "source": [
    "prediction2 = lasso_model.predict(X_train)\n",
    "mse2 = mean_squared_error(prediction2, y_train)\n",
    "print('mean square root error :\\n{}\\n'.format(np.sqrt(mse2)))"
   ]
  },
  {
   "cell_type": "code",
   "execution_count": 596,
   "metadata": {},
   "outputs": [
    {
     "name": "stdout",
     "output_type": "stream",
     "text": [
      "Train score r2: 0.109126820172\n",
      "Test score r2: 0.112861989046\n"
     ]
    }
   ],
   "source": [
    "print('Train score r2:', lasso_model.score(X_train,y_train))\n",
    "print('Test score r2:', lasso_model.score(X_test,y_test))"
   ]
  },
  {
   "cell_type": "code",
   "execution_count": 597,
   "metadata": {
    "scrolled": true
   },
   "outputs": [
    {
     "data": {
      "text/plain": [
       "GridSearchCV(cv=3, error_score='raise',\n",
       "       estimator=Ridge(alpha=1.0, copy_X=True, fit_intercept=True, max_iter=None,\n",
       "   normalize=False, random_state=None, solver='auto', tol=0.001),\n",
       "       fit_params=None, iid=True, n_jobs=1,\n",
       "       param_grid=[{'alpha': [0.1, 0.2, 0.3, 0.5]}],\n",
       "       pre_dispatch='2*n_jobs', refit=True, return_train_score='warn',\n",
       "       scoring='neg_mean_squared_error', verbose=0)"
      ]
     },
     "execution_count": 597,
     "metadata": {},
     "output_type": "execute_result"
    }
   ],
   "source": [
    "ridge = Ridge()\n",
    "grid_seaerch_ridge = GridSearchCV(ridge, params, cv = 3, scoring='neg_mean_squared_error')\n",
    "grid_seaerch_ridge.fit(X_train, y_train)"
   ]
  },
  {
   "cell_type": "code",
   "execution_count": 598,
   "metadata": {
    "scrolled": true
   },
   "outputs": [
    {
     "data": {
      "text/plain": [
       "Ridge(alpha=0.5, copy_X=True, fit_intercept=True, max_iter=None,\n",
       "   normalize=False, random_state=None, solver='auto', tol=0.001)"
      ]
     },
     "execution_count": 598,
     "metadata": {},
     "output_type": "execute_result"
    }
   ],
   "source": [
    "grid_seaerch_ridge.best_score_\n",
    "ridge_model = grid_seaerch_ridge.best_estimator_\n",
    "ridge_model.fit(X_train, y_train)"
   ]
  },
  {
   "cell_type": "code",
   "execution_count": 599,
   "metadata": {},
   "outputs": [
    {
     "name": "stdout",
     "output_type": "stream",
     "text": [
      "square root:\n",
      "3.692066535689094\n",
      "\n"
     ]
    }
   ],
   "source": [
    "prediction3 = ridge_model.predict(X_train)\n",
    "mse3 = mean_squared_error(prediction3, y_train)\n",
    "print('square root:\\n{}\\n'.format(np.sqrt(mse3)))"
   ]
  },
  {
   "cell_type": "code",
   "execution_count": 600,
   "metadata": {},
   "outputs": [
    {
     "name": "stdout",
     "output_type": "stream",
     "text": [
      "Train score r2: 0.121969953762\n",
      "Test score r2: 0.127602546279\n"
     ]
    }
   ],
   "source": [
    "print('Train score r2:', ridge_model.score(X_train,y_train))\n",
    "print('Test score r2:', ridge_model.score(X_test,y_test))"
   ]
  },
  {
   "cell_type": "code",
   "execution_count": 601,
   "metadata": {},
   "outputs": [
    {
     "data": {
      "text/plain": [
       "GridSearchCV(cv=3, error_score='raise',\n",
       "       estimator=ElasticNet(alpha=1.0, copy_X=True, fit_intercept=True, l1_ratio=0.5,\n",
       "      max_iter=1000, normalize=False, positive=False, precompute=False,\n",
       "      random_state=None, selection='cyclic', tol=0.0001, warm_start=False),\n",
       "       fit_params=None, iid=True, n_jobs=1,\n",
       "       param_grid=[{'alpha': [0.1, 0.2, 0.3, 0.5]}],\n",
       "       pre_dispatch='2*n_jobs', refit=True, return_train_score='warn',\n",
       "       scoring='neg_mean_squared_error', verbose=0)"
      ]
     },
     "execution_count": 601,
     "metadata": {},
     "output_type": "execute_result"
    }
   ],
   "source": [
    "en = ElasticNet()\n",
    "grid_seaerch_en = GridSearchCV(en, params, cv = 3, scoring='neg_mean_squared_error')\n",
    "grid_seaerch_en.fit(X_train, y_train)"
   ]
  },
  {
   "cell_type": "code",
   "execution_count": 602,
   "metadata": {
    "scrolled": true
   },
   "outputs": [
    {
     "data": {
      "text/plain": [
       "ElasticNet(alpha=0.1, copy_X=True, fit_intercept=True, l1_ratio=0.5,\n",
       "      max_iter=1000, normalize=False, positive=False, precompute=False,\n",
       "      random_state=None, selection='cyclic', tol=0.0001, warm_start=False)"
      ]
     },
     "execution_count": 602,
     "metadata": {},
     "output_type": "execute_result"
    }
   ],
   "source": [
    "grid_seaerch_en.best_score_\n",
    "en_model = grid_seaerch_en.best_estimator_\n",
    "en_model.fit(X_train, y_train)"
   ]
  },
  {
   "cell_type": "code",
   "execution_count": 603,
   "metadata": {
    "scrolled": true
   },
   "outputs": [
    {
     "name": "stdout",
     "output_type": "stream",
     "text": [
      "square root:\n",
      "3.70986240452818\n",
      "\n"
     ]
    }
   ],
   "source": [
    "prediction4 = en_model.predict(X_train)\n",
    "mse4 = mean_squared_error(prediction4, y_train)\n",
    "print('square root:\\n{}\\n'.format(np.sqrt(mse4)))"
   ]
  },
  {
   "cell_type": "code",
   "execution_count": 604,
   "metadata": {},
   "outputs": [
    {
     "name": "stdout",
     "output_type": "stream",
     "text": [
      "Train score r2: 0.113485293689\n",
      "Test score r2: 0.117569538757\n"
     ]
    }
   ],
   "source": [
    "print('Train score r2:', en_model.score(X_train,y_train))\n",
    "print('Test score r2:', en_model.score(X_test,y_test))"
   ]
  },
  {
   "cell_type": "markdown",
   "metadata": {},
   "source": [
    "#### KNeighbors"
   ]
  },
  {
   "cell_type": "code",
   "execution_count": 698,
   "metadata": {
    "scrolled": true
   },
   "outputs": [
    {
     "data": {
      "text/plain": [
       "Index(['dot_week', 'light_level', 'light_log_mms', 'light_log_sss',\n",
       "       'location_black', 'location_blue', 'location_green', 'location_orange',\n",
       "       'location_purple', 'motion', 'present', 'sound_log_mms',\n",
       "       'sound_log_sss', 'sun_cat', 'light_level_sss'],\n",
       "      dtype='object')"
      ]
     },
     "execution_count": 698,
     "metadata": {},
     "output_type": "execute_result"
    }
   ],
   "source": [
    "df.columns"
   ]
  },
  {
   "cell_type": "code",
   "execution_count": 699,
   "metadata": {},
   "outputs": [],
   "source": [
    "from sklearn.neighbors import KNeighborsClassifier\n",
    "from sklearn.metrics import confusion_matrix\n",
    "knn = KNeighborsClassifier(n_neighbors=5)"
   ]
  },
  {
   "cell_type": "code",
   "execution_count": 700,
   "metadata": {
    "scrolled": true
   },
   "outputs": [
    {
     "data": {
      "text/plain": [
       "KNeighborsClassifier(algorithm='auto', leaf_size=30, metric='minkowski',\n",
       "           metric_params=None, n_jobs=1, n_neighbors=5, p=2,\n",
       "           weights='uniform')"
      ]
     },
     "execution_count": 700,
     "metadata": {},
     "output_type": "execute_result"
    }
   ],
   "source": [
    "knn.fit(X_train, y_train)"
   ]
  },
  {
   "cell_type": "code",
   "execution_count": 701,
   "metadata": {},
   "outputs": [],
   "source": [
    "prediction5 = knn.predict(X_train)"
   ]
  },
  {
   "cell_type": "code",
   "execution_count": 702,
   "metadata": {},
   "outputs": [
    {
     "name": "stdout",
     "output_type": "stream",
     "text": [
      "[[277295    142    109    226    392  17077]\n",
      " [  3166    497     82     64     64   1226]\n",
      " [  2992     82    514    119     63   1252]\n",
      " [  4337     92    135    974    156   1911]\n",
      " [  5297     57     92    179   1432   2660]\n",
      " [ 35982    217    301    442    968  81326]]\n"
     ]
    }
   ],
   "source": [
    "print(confusion_matrix(y_train, prediction5))"
   ]
  },
  {
   "cell_type": "code",
   "execution_count": 703,
   "metadata": {},
   "outputs": [
    {
     "name": "stdout",
     "output_type": "stream",
     "text": [
      "             precision    recall  f1-score   support\n",
      "\n",
      "          0       0.84      0.94      0.89    295241\n",
      "          1       0.46      0.10      0.16      5099\n",
      "          2       0.42      0.10      0.16      5022\n",
      "          3       0.49      0.13      0.20      7605\n",
      "          4       0.47      0.15      0.22      9717\n",
      "          5       0.77      0.68      0.72    119236\n",
      "\n",
      "avg / total       0.80      0.82      0.80    441920\n",
      "\n"
     ]
    }
   ],
   "source": [
    "print(classification_report(y_train, prediction5))"
   ]
  },
  {
   "cell_type": "code",
   "execution_count": 704,
   "metadata": {},
   "outputs": [
    {
     "name": "stdout",
     "output_type": "stream",
     "text": [
      "Train score r2: 0.819238776249\n",
      "Test score r2: 0.77003808373\n"
     ]
    }
   ],
   "source": [
    "print('Train score r2:', knn.score(X_train,y_train))\n",
    "print('Test score r2:', knn.score(X_test,y_test))"
   ]
  },
  {
   "cell_type": "code",
   "execution_count": 706,
   "metadata": {},
   "outputs": [
    {
     "data": {
      "text/plain": [
       "GridSearchCV(cv=5, error_score='raise',\n",
       "       estimator=KNeighborsClassifier(algorithm='auto', leaf_size=30, metric='minkowski',\n",
       "           metric_params=None, n_jobs=1, n_neighbors=5, p=2,\n",
       "           weights='uniform'),\n",
       "       fit_params=None, iid=True, n_jobs=1,\n",
       "       param_grid=[{'n_neighbors': [2, 4, 6, 8]}], pre_dispatch='2*n_jobs',\n",
       "       refit=True, return_train_score='warn',\n",
       "       scoring='neg_mean_squared_error', verbose=0)"
      ]
     },
     "execution_count": 706,
     "metadata": {},
     "output_type": "execute_result"
    }
   ],
   "source": [
    "k = [i for i in range(2, 10, 2)]\n",
    "grid_search_knn_params = [{'n_neighbors': k}]\n",
    "\n",
    "\n",
    "grid_seaerch_en = GridSearchCV(knn, grid_search_knn_params, cv = 5, scoring='neg_mean_squared_error')\n",
    "grid_seaerch_en.fit(X_train, y_train)"
   ]
  },
  {
   "cell_type": "code",
   "execution_count": 707,
   "metadata": {},
   "outputs": [
    {
     "data": {
      "text/plain": [
       "-4.4258485698769006"
      ]
     },
     "execution_count": 707,
     "metadata": {},
     "output_type": "execute_result"
    }
   ],
   "source": [
    "grid_seaerch_en.best_score_"
   ]
  },
  {
   "cell_type": "code",
   "execution_count": 709,
   "metadata": {},
   "outputs": [
    {
     "data": {
      "text/plain": [
       "KNeighborsClassifier(algorithm='auto', leaf_size=30, metric='minkowski',\n",
       "           metric_params=None, n_jobs=1, n_neighbors=8, p=2,\n",
       "           weights='uniform')"
      ]
     },
     "execution_count": 709,
     "metadata": {},
     "output_type": "execute_result"
    }
   ],
   "source": [
    "knn_model = grid_seaerch_en.best_estimator_\n",
    "knn_model.fit(X_train, y_train)"
   ]
  },
  {
   "cell_type": "code",
   "execution_count": 710,
   "metadata": {},
   "outputs": [],
   "source": [
    "prediction5 = knn_model.predict(X_train)"
   ]
  },
  {
   "cell_type": "code",
   "execution_count": 711,
   "metadata": {},
   "outputs": [
    {
     "name": "stdout",
     "output_type": "stream",
     "text": [
      "             precision    recall  f1-score   support\n",
      "\n",
      "          0       0.83      0.95      0.88    295241\n",
      "          1       0.43      0.05      0.09      5099\n",
      "          2       0.39      0.06      0.10      5022\n",
      "          3       0.47      0.07      0.12      7605\n",
      "          4       0.48      0.09      0.15      9717\n",
      "          5       0.76      0.64      0.69    119236\n",
      "\n",
      "avg / total       0.79      0.81      0.79    441920\n",
      "\n"
     ]
    }
   ],
   "source": [
    "print(classification_report(y_train, prediction5))"
   ]
  },
  {
   "cell_type": "code",
   "execution_count": 712,
   "metadata": {},
   "outputs": [
    {
     "name": "stdout",
     "output_type": "stream",
     "text": [
      "Train score r2: 0.809071777697\n",
      "Test score r2: 0.779182252031\n"
     ]
    }
   ],
   "source": [
    "print('Train score r2:', knn_model.score(X_train,y_train))\n",
    "print('Test score r2:', knn_model.score(X_test,y_test))"
   ]
  },
  {
   "cell_type": "code",
   "execution_count": 690,
   "metadata": {},
   "outputs": [],
   "source": [
    "from sklearn.model_selection import cross_val_predict"
   ]
  },
  {
   "cell_type": "code",
   "execution_count": 691,
   "metadata": {},
   "outputs": [],
   "source": [
    "y_pred = cross_val_predict(knn, X_train, y_train)"
   ]
  },
  {
   "cell_type": "code",
   "execution_count": 692,
   "metadata": {},
   "outputs": [
    {
     "data": {
      "text/plain": [
       "array([[254121,    230,    184,    350,    766,  28466],\n",
       "       [  3326,     72,     34,     46,     58,   1371],\n",
       "       [  3186,     29,     72,     82,     75,   1380],\n",
       "       [  4761,     48,     94,    205,    165,   2078],\n",
       "       [  5944,     44,     65,    128,    312,   3043],\n",
       "       [ 51375,    202,    235,    467,    848,  60055]])"
      ]
     },
     "execution_count": 692,
     "metadata": {},
     "output_type": "execute_result"
    }
   ],
   "source": [
    "conf_mx = confusion_matrix(y_train, y_pred)\n",
    "conf_mx"
   ]
  },
  {
   "cell_type": "markdown",
   "metadata": {},
   "source": [
    "Regression models:\n",
    "    - linear support regressor\n",
    "    - linear vs non-linear kernel\n",
    "    - random forest\n",
    "    - XG Boost model"
   ]
  },
  {
   "cell_type": "code",
   "execution_count": 640,
   "metadata": {},
   "outputs": [
    {
     "data": {
      "text/plain": [
       "['data/sensing_numeric_full.sav']"
      ]
     },
     "execution_count": 640,
     "metadata": {},
     "output_type": "execute_result"
    }
   ],
   "source": [
    "from sklearn.externals import joblib\n",
    "filename = 'data/sensing_numeric_full.sav'\n",
    "joblib.dump(df, filename)"
   ]
  }
 ],
 "metadata": {
  "kernelspec": {
   "display_name": "Python 3",
   "language": "python",
   "name": "python3"
  },
  "language_info": {
   "codemirror_mode": {
    "name": "ipython",
    "version": 3
   },
   "file_extension": ".py",
   "mimetype": "text/x-python",
   "name": "python",
   "nbconvert_exporter": "python",
   "pygments_lexer": "ipython3",
   "version": "3.6.4"
  }
 },
 "nbformat": 4,
 "nbformat_minor": 2
}
